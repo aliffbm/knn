{
 "cells": [
  {
   "cell_type": "code",
   "execution_count": 1,
   "metadata": {},
   "outputs": [],
   "source": [
    "import pandas as pd\n",
    "import numpy as np"
   ]
  },
  {
   "cell_type": "code",
   "execution_count": null,
   "metadata": {},
   "outputs": [],
   "source": []
  },
  {
   "cell_type": "code",
   "execution_count": 130,
   "metadata": {},
   "outputs": [],
   "source": [
    "# pull in files and create dataframes\n",
    "train = np.loadtxt(\"pa3train.txt\")\n",
    "test = np.loadtxt(\"pa3test.txt\")\n",
    "#dictionary = np.loadtxt(\"pa3dictionary.txt\")\n",
    "\n",
    "\n",
    "# training data \n",
    "df_train = pd.DataFrame(train)\n",
    "df_train_2 = df_train[df_train.apply(lambda x: x[819] == 1 or x[819] == 2, axis=1)]\n",
    "df_train_2 = df_train_2.sample(frac=1)\n",
    "# test data\n",
    "df_test = pd.DataFrame(test)\n",
    "df_test_2 = df_test[df_test.apply(lambda x: x[819] == 1 or x[819] == 2, axis=1)]\n",
    "#df_dict = pd.DataFrame(\"pa3dictionary.txt\")\n",
    "\n",
    "\n",
    "\n",
    "X_train = df_train.drop([818], axis=1)\n",
    "y_train = df_train[819]\n",
    "\n",
    "X_train_2 = df_train_2.drop([818], axis=1)\n",
    "y_train_2 = df_train_2[819]\n",
    "\n",
    "y_train_2_trans = y_train_2.apply(lambda x: -1 if x > 1 else 1)\n",
    "\n",
    "X_test = df_test.drop([818], axis=1)\n",
    "y_test = df_test[819]\n",
    "\n",
    "X_test_2 = df_test_2.drop([818], axis=1)\n",
    "y_test_2 = df_test_2[819]\n",
    "\n",
    "label = 819"
   ]
  },
  {
   "cell_type": "code",
   "execution_count": 131,
   "metadata": {},
   "outputs": [],
   "source": [
    "# fit\n",
    "def perceptron_fit(X, y):\n",
    "    w = 0\n",
    "    m = 1\n",
    "    c = 1\n",
    "    arr_of_w = []\n",
    "    for i in range(len(X)):\n",
    "        if m == 1:\n",
    "            w = y.iloc[i]*X.iloc[i]\n",
    "            arr_of_w.append([w, c])\n",
    "            c = 1\n",
    "            m = m + 1\n",
    "        else:\n",
    "            if y.iloc[i]*w.dot(X.iloc[i]) <= 0:\n",
    "                w = w + y.iloc[i]*X.iloc[i]\n",
    "                m = m + 1\n",
    "                c = 1\n",
    "                arr_of_w.append([w, c])\n",
    "            else:\n",
    "                c = c + 1\n",
    "                arr_of_w[len(arr_of_w) - 1][1] = arr_of_w[len(arr_of_w) - 1][1] + 1\n",
    "\n",
    "    return w, arr_of_w"
   ]
  },
  {
   "cell_type": "code",
   "execution_count": 140,
   "metadata": {},
   "outputs": [],
   "source": [
    "def perceptron_check(w, x): \n",
    "    return -1 if w.dot(x) <= 0 else 1\n",
    "\n",
    "def perceptron_predict(X, w):\n",
    "    arr = []\n",
    "    for i in range(len(X)):\n",
    "        x = X.iloc[i]\n",
    "        arr.append(perceptron_check(w, x))\n",
    "    return arr"
   ]
  },
  {
   "cell_type": "code",
   "execution_count": 141,
   "metadata": {},
   "outputs": [],
   "source": [
    "def perceptron_check_c(w, x, c):\n",
    "    return c*perceptron_check(w, x)\n",
    "    \n",
    "def voted_perception_predict(X, arr_w):\n",
    "    preds = []\n",
    "    for i in range(len(X)):\n",
    "        x = X.iloc[i]\n",
    "        voted_sum = 0\n",
    "        for w_c in arr_w:\n",
    "            w = w_c[0]\n",
    "            c = w_c[1]\n",
    "            voted_sum = voted_sum + perceptron_check_c(w, x, c)\n",
    "            \n",
    "        pred = -1 if voted_sum <= 0 else 1\n",
    "        preds.append(pred)\n",
    "\n",
    "    return preds\n",
    "    "
   ]
  },
  {
   "cell_type": "code",
   "execution_count": null,
   "metadata": {},
   "outputs": [],
   "source": [
    "def average_perception_predict(X, arr_w):\n",
    "    preds = []\n",
    "    w = arr_w[0][0]\n",
    "    c = arr_w[0][1]\n",
    "    combination_w = c*w\n",
    "    for i in range(1, len(arr_w)):\n",
    "            w = arr_w[i][0]\n",
    "            c = arr_w[i][1]\n",
    "            combination_w = combination_w + c*w\n",
    "    \n",
    "    for i in range(len(X)):\n",
    "        x = X.iloc[i]\n",
    "        sign = perceptron_check(combination_w, x)\n",
    "        preds.append(sign)\n",
    "        \n",
    "    return preds\n",
    "        \n",
    "    \n",
    "    # now do dot to get sign\n",
    "    \n",
    "        \n",
    "    "
   ]
  },
  {
   "cell_type": "code",
   "execution_count": 134,
   "metadata": {},
   "outputs": [],
   "source": [
    "w, arrs_w = perceptron_fit(X_train_2, y_train_2_trans)"
   ]
  },
  {
   "cell_type": "code",
   "execution_count": 135,
   "metadata": {},
   "outputs": [],
   "source": [
    "preds = perceptron_predict(X_train_2, w)"
   ]
  },
  {
   "cell_type": "code",
   "execution_count": 136,
   "metadata": {},
   "outputs": [
    {
     "data": {
      "text/plain": [
       "0.047706422018348627"
      ]
     },
     "execution_count": 136,
     "metadata": {},
     "output_type": "execute_result"
    }
   ],
   "source": [
    "1 - (preds == y_train_2_trans).sum() / len(y_train_2_trans)"
   ]
  },
  {
   "cell_type": "code",
   "execution_count": 137,
   "metadata": {},
   "outputs": [],
   "source": [
    "preds_voted = voted_perception_predict(X_train_2, arrs_w)"
   ]
  },
  {
   "cell_type": "code",
   "execution_count": 138,
   "metadata": {},
   "outputs": [
    {
     "data": {
      "text/plain": [
       "1090"
      ]
     },
     "execution_count": 138,
     "metadata": {},
     "output_type": "execute_result"
    }
   ],
   "source": [
    "len(preds_voted)"
   ]
  },
  {
   "cell_type": "code",
   "execution_count": 139,
   "metadata": {},
   "outputs": [
    {
     "data": {
      "text/plain": [
       "0.05779816513761471"
      ]
     },
     "execution_count": 139,
     "metadata": {},
     "output_type": "execute_result"
    }
   ],
   "source": [
    "1 - (preds_voted == y_train_2_trans).sum() / len(preds)"
   ]
  },
  {
   "cell_type": "code",
   "execution_count": 5,
   "metadata": {},
   "outputs": [],
   "source": [
    "#X_train_w2.iloc[0][:label]"
   ]
  },
  {
   "cell_type": "code",
   "execution_count": 6,
   "metadata": {},
   "outputs": [
    {
     "name": "stdout",
     "output_type": "stream",
     "text": [
      "changing\n",
      "changing\n",
      "changing\n",
      "changing\n",
      "changing\n",
      "changing\n",
      "changing\n",
      "changing\n",
      "changing\n",
      "changing\n",
      "changing\n",
      "changing\n",
      "changing\n",
      "changing\n",
      "changing\n",
      "changing\n",
      "changing\n",
      "changing\n",
      "changing\n",
      "changing\n",
      "changing\n",
      "changing\n",
      "changing\n",
      "changing\n",
      "changing\n",
      "changing\n",
      "changing\n",
      "changing\n",
      "changing\n",
      "changing\n",
      "changing\n",
      "changing\n",
      "changing\n",
      "changing\n",
      "changing\n",
      "changing\n",
      "changing\n",
      "changing\n",
      "changing\n",
      "changing\n",
      "changing\n",
      "changing\n",
      "changing\n",
      "changing\n",
      "changing\n",
      "changing\n",
      "changing\n",
      "changing\n",
      "changing\n",
      "changing\n",
      "changing\n",
      "changing\n",
      "changing\n",
      "changing\n",
      "changing\n",
      "changing\n",
      "changing\n",
      "changing\n",
      "changing\n",
      "changing\n",
      "changing\n",
      "changing\n",
      "changing\n",
      "changing\n",
      "changing\n",
      "changing\n",
      "changing\n",
      "changing\n",
      "changing\n",
      "changing\n",
      "changing\n",
      "changing\n",
      "changing\n",
      "changing\n",
      "changing\n",
      "changing\n",
      "changing\n",
      "changing\n",
      "changing\n",
      "changing\n",
      "changing\n",
      "changing\n",
      "changing\n",
      "changing\n",
      "changing\n",
      "changing\n",
      "changing\n",
      "changing\n",
      "changing\n",
      "changing\n",
      "changing\n",
      "changing\n",
      "changing\n",
      "changing\n",
      "changing\n",
      "changing\n",
      "changing\n",
      "changing\n",
      "changing\n",
      "changing\n",
      "changing\n",
      "changing\n",
      "changing\n",
      "changing\n",
      "changing\n",
      "changing\n",
      "changing\n",
      "changing\n",
      "changing\n",
      "changing\n",
      "changing\n",
      "changing\n",
      "changing\n",
      "changing\n",
      "changing\n",
      "changing\n",
      "changing\n",
      "changing\n",
      "changing\n",
      "changing\n",
      "changing\n",
      "changing\n",
      "changing\n",
      "changing\n",
      "changing\n",
      "changing\n",
      "changing\n",
      "changing\n",
      "changing\n",
      "changing\n",
      "changing\n",
      "changing\n",
      "changing\n",
      "changing\n",
      "changing\n",
      "changing\n",
      "changing\n",
      "changing\n",
      "changing\n",
      "changing\n",
      "changing\n",
      "changing\n",
      "changing\n",
      "changing\n",
      "changing\n",
      "changing\n",
      "changing\n",
      "changing\n",
      "changing\n",
      "changing\n",
      "changing\n",
      "changing\n",
      "changing\n",
      "changing\n",
      "changing\n",
      "changing\n",
      "changing\n",
      "changing\n",
      "changing\n",
      "changing\n",
      "changing\n",
      "changing\n",
      "changing\n",
      "changing\n",
      "changing\n"
     ]
    }
   ],
   "source": [
    "w = 0\n",
    "check = 0\n",
    "for i in range(len(X_train_2) - 1):\n",
    "    if check == 0:\n",
    "        w = y_train_2_trans.iloc[i]*X_train_2.iloc[i][:label]\n",
    "        check = check + 1\n",
    "    else:\n",
    "        \n",
    "        if y_train_2_trans.iloc[i]*w.dot(X_train_2.iloc[i][:label]) <= 0:\n",
    "            print(\"changing\")\n",
    "            w = w + y_train_2_trans.iloc[i]*X_train_2.iloc[i][:label]"
   ]
  },
  {
   "cell_type": "code",
   "execution_count": 155,
   "metadata": {},
   "outputs": [],
   "source": [
    "x_train_2_nolabel = df_train_2.drop([818], axis=1)"
   ]
  },
  {
   "cell_type": "code",
   "execution_count": 228,
   "metadata": {},
   "outputs": [],
   "source": []
  },
  {
   "cell_type": "code",
   "execution_count": 229,
   "metadata": {},
   "outputs": [],
   "source": [
    "def Perceptron(trainingInput, w):\n",
    "    arr = []\n",
    "    for i in range(len(trainingInput)):\n",
    "        x = trainingInput.iloc[i][:label]\n",
    "        #y = y_train_2_trans.iloc[i]\n",
    "        arr.append(perceptron(w, x))\n",
    "    return arr"
   ]
  },
  {
   "cell_type": "code",
   "execution_count": 230,
   "metadata": {},
   "outputs": [],
   "source": [
    "preds = Perceptron(X_train_2, w)"
   ]
  },
  {
   "cell_type": "code",
   "execution_count": 231,
   "metadata": {},
   "outputs": [
    {
     "data": {
      "text/plain": [
       "2.0    547\n",
       "1.0    543\n",
       "Name: 819, dtype: int64"
      ]
     },
     "execution_count": 231,
     "metadata": {},
     "output_type": "execute_result"
    }
   ],
   "source": [
    "y_train_2.value_counts()"
   ]
  },
  {
   "cell_type": "code",
   "execution_count": 232,
   "metadata": {},
   "outputs": [
    {
     "data": {
      "text/plain": [
       " 1    548\n",
       "-1    542\n",
       "dtype: int64"
      ]
     },
     "execution_count": 232,
     "metadata": {},
     "output_type": "execute_result"
    }
   ],
   "source": [
    "pd.Series(preds).value_counts()"
   ]
  },
  {
   "cell_type": "code",
   "execution_count": 233,
   "metadata": {},
   "outputs": [],
   "source": [
    "error = 1 - ((preds == y_train_2_trans).sum() / len(preds))"
   ]
  },
  {
   "cell_type": "code",
   "execution_count": 234,
   "metadata": {},
   "outputs": [
    {
     "data": {
      "text/plain": [
       "-1    547\n",
       " 1    543\n",
       "Name: 819, dtype: int64"
      ]
     },
     "execution_count": 234,
     "metadata": {},
     "output_type": "execute_result"
    }
   ],
   "source": [
    "y_train_2_trans.value_counts()"
   ]
  },
  {
   "cell_type": "code",
   "execution_count": 235,
   "metadata": {},
   "outputs": [
    {
     "data": {
      "text/plain": [
       "0.041284403669724745"
      ]
     },
     "execution_count": 235,
     "metadata": {},
     "output_type": "execute_result"
    }
   ],
   "source": [
    "error"
   ]
  },
  {
   "cell_type": "code",
   "execution_count": 204,
   "metadata": {},
   "outputs": [
    {
     "data": {
      "text/plain": [
       " 1    1045\n",
       "-1      45\n",
       "dtype: int64"
      ]
     },
     "execution_count": 204,
     "metadata": {},
     "output_type": "execute_result"
    }
   ],
   "source": [
    "pd.Series(preds).value_counts()"
   ]
  },
  {
   "cell_type": "code",
   "execution_count": 89,
   "metadata": {},
   "outputs": [
    {
     "data": {
      "text/plain": [
       "1"
      ]
     },
     "execution_count": 89,
     "metadata": {},
     "output_type": "execute_result"
    }
   ],
   "source": [
    "perceptron(w, X_train_2.iloc[i][:label])"
   ]
  },
  {
   "cell_type": "code",
   "execution_count": null,
   "metadata": {},
   "outputs": [],
   "source": [
    "for i in range(1):\n",
    "    if()"
   ]
  },
  {
   "cell_type": "code",
   "execution_count": 11,
   "metadata": {},
   "outputs": [],
   "source": [
    "one = X_train.iloc[0]\n"
   ]
  },
  {
   "cell_type": "code",
   "execution_count": null,
   "metadata": {},
   "outputs": [],
   "source": []
  },
  {
   "cell_type": "code",
   "execution_count": 9,
   "metadata": {},
   "outputs": [
    {
     "data": {
      "text/html": [
       "<div>\n",
       "<style scoped>\n",
       "    .dataframe tbody tr th:only-of-type {\n",
       "        vertical-align: middle;\n",
       "    }\n",
       "\n",
       "    .dataframe tbody tr th {\n",
       "        vertical-align: top;\n",
       "    }\n",
       "\n",
       "    .dataframe thead th {\n",
       "        text-align: right;\n",
       "    }\n",
       "</style>\n",
       "<table border=\"1\" class=\"dataframe\">\n",
       "  <thead>\n",
       "    <tr style=\"text-align: right;\">\n",
       "      <th></th>\n",
       "      <th>0</th>\n",
       "      <th>1</th>\n",
       "      <th>2</th>\n",
       "      <th>3</th>\n",
       "      <th>4</th>\n",
       "      <th>5</th>\n",
       "      <th>6</th>\n",
       "      <th>7</th>\n",
       "      <th>8</th>\n",
       "      <th>9</th>\n",
       "      <th>...</th>\n",
       "      <th>810</th>\n",
       "      <th>811</th>\n",
       "      <th>812</th>\n",
       "      <th>813</th>\n",
       "      <th>814</th>\n",
       "      <th>815</th>\n",
       "      <th>816</th>\n",
       "      <th>817</th>\n",
       "      <th>818</th>\n",
       "      <th>819</th>\n",
       "    </tr>\n",
       "  </thead>\n",
       "  <tbody>\n",
       "    <tr>\n",
       "      <th>0</th>\n",
       "      <td>0.0</td>\n",
       "      <td>1.0</td>\n",
       "      <td>3.0</td>\n",
       "      <td>0.0</td>\n",
       "      <td>4.0</td>\n",
       "      <td>0.0</td>\n",
       "      <td>0.0</td>\n",
       "      <td>0.0</td>\n",
       "      <td>6.0</td>\n",
       "      <td>2.0</td>\n",
       "      <td>...</td>\n",
       "      <td>0.0</td>\n",
       "      <td>0.0</td>\n",
       "      <td>0.0</td>\n",
       "      <td>0.0</td>\n",
       "      <td>0.0</td>\n",
       "      <td>0.0</td>\n",
       "      <td>0.0</td>\n",
       "      <td>0.0</td>\n",
       "      <td>0.0</td>\n",
       "      <td>5.0</td>\n",
       "    </tr>\n",
       "    <tr>\n",
       "      <th>1</th>\n",
       "      <td>0.0</td>\n",
       "      <td>0.0</td>\n",
       "      <td>3.0</td>\n",
       "      <td>0.0</td>\n",
       "      <td>1.0</td>\n",
       "      <td>0.0</td>\n",
       "      <td>0.0</td>\n",
       "      <td>1.0</td>\n",
       "      <td>7.0</td>\n",
       "      <td>2.0</td>\n",
       "      <td>...</td>\n",
       "      <td>0.0</td>\n",
       "      <td>0.0</td>\n",
       "      <td>0.0</td>\n",
       "      <td>0.0</td>\n",
       "      <td>0.0</td>\n",
       "      <td>0.0</td>\n",
       "      <td>0.0</td>\n",
       "      <td>0.0</td>\n",
       "      <td>0.0</td>\n",
       "      <td>1.0</td>\n",
       "    </tr>\n",
       "    <tr>\n",
       "      <th>2</th>\n",
       "      <td>0.0</td>\n",
       "      <td>0.0</td>\n",
       "      <td>1.0</td>\n",
       "      <td>0.0</td>\n",
       "      <td>0.0</td>\n",
       "      <td>0.0</td>\n",
       "      <td>0.0</td>\n",
       "      <td>1.0</td>\n",
       "      <td>1.0</td>\n",
       "      <td>2.0</td>\n",
       "      <td>...</td>\n",
       "      <td>0.0</td>\n",
       "      <td>0.0</td>\n",
       "      <td>0.0</td>\n",
       "      <td>0.0</td>\n",
       "      <td>0.0</td>\n",
       "      <td>0.0</td>\n",
       "      <td>0.0</td>\n",
       "      <td>0.0</td>\n",
       "      <td>0.0</td>\n",
       "      <td>4.0</td>\n",
       "    </tr>\n",
       "    <tr>\n",
       "      <th>3</th>\n",
       "      <td>0.0</td>\n",
       "      <td>0.0</td>\n",
       "      <td>12.0</td>\n",
       "      <td>0.0</td>\n",
       "      <td>0.0</td>\n",
       "      <td>0.0</td>\n",
       "      <td>0.0</td>\n",
       "      <td>2.0</td>\n",
       "      <td>12.0</td>\n",
       "      <td>4.0</td>\n",
       "      <td>...</td>\n",
       "      <td>0.0</td>\n",
       "      <td>0.0</td>\n",
       "      <td>0.0</td>\n",
       "      <td>0.0</td>\n",
       "      <td>0.0</td>\n",
       "      <td>0.0</td>\n",
       "      <td>0.0</td>\n",
       "      <td>0.0</td>\n",
       "      <td>0.0</td>\n",
       "      <td>2.0</td>\n",
       "    </tr>\n",
       "    <tr>\n",
       "      <th>4</th>\n",
       "      <td>0.0</td>\n",
       "      <td>1.0</td>\n",
       "      <td>2.0</td>\n",
       "      <td>0.0</td>\n",
       "      <td>0.0</td>\n",
       "      <td>0.0</td>\n",
       "      <td>0.0</td>\n",
       "      <td>2.0</td>\n",
       "      <td>16.0</td>\n",
       "      <td>5.0</td>\n",
       "      <td>...</td>\n",
       "      <td>0.0</td>\n",
       "      <td>0.0</td>\n",
       "      <td>0.0</td>\n",
       "      <td>0.0</td>\n",
       "      <td>0.0</td>\n",
       "      <td>0.0</td>\n",
       "      <td>0.0</td>\n",
       "      <td>0.0</td>\n",
       "      <td>0.0</td>\n",
       "      <td>2.0</td>\n",
       "    </tr>\n",
       "  </tbody>\n",
       "</table>\n",
       "<p>5 rows × 820 columns</p>\n",
       "</div>"
      ],
      "text/plain": [
       "   0    1     2    3    4    5    6    7     8    9    ...  810  811  812  \\\n",
       "0  0.0  1.0   3.0  0.0  4.0  0.0  0.0  0.0   6.0  2.0  ...  0.0  0.0  0.0   \n",
       "1  0.0  0.0   3.0  0.0  1.0  0.0  0.0  1.0   7.0  2.0  ...  0.0  0.0  0.0   \n",
       "2  0.0  0.0   1.0  0.0  0.0  0.0  0.0  1.0   1.0  2.0  ...  0.0  0.0  0.0   \n",
       "3  0.0  0.0  12.0  0.0  0.0  0.0  0.0  2.0  12.0  4.0  ...  0.0  0.0  0.0   \n",
       "4  0.0  1.0   2.0  0.0  0.0  0.0  0.0  2.0  16.0  5.0  ...  0.0  0.0  0.0   \n",
       "\n",
       "   813  814  815  816  817  818  819  \n",
       "0  0.0  0.0  0.0  0.0  0.0  0.0  5.0  \n",
       "1  0.0  0.0  0.0  0.0  0.0  0.0  1.0  \n",
       "2  0.0  0.0  0.0  0.0  0.0  0.0  4.0  \n",
       "3  0.0  0.0  0.0  0.0  0.0  0.0  2.0  \n",
       "4  0.0  0.0  0.0  0.0  0.0  0.0  2.0  \n",
       "\n",
       "[5 rows x 820 columns]"
      ]
     },
     "execution_count": 9,
     "metadata": {},
     "output_type": "execute_result"
    }
   ],
   "source": [
    "df_train.head()"
   ]
  },
  {
   "cell_type": "code",
   "execution_count": null,
   "metadata": {},
   "outputs": [],
   "source": []
  }
 ],
 "metadata": {
  "kernelspec": {
   "display_name": "Python 3",
   "language": "python",
   "name": "python3"
  },
  "language_info": {
   "codemirror_mode": {
    "name": "ipython",
    "version": 3
   },
   "file_extension": ".py",
   "mimetype": "text/x-python",
   "name": "python",
   "nbconvert_exporter": "python",
   "pygments_lexer": "ipython3",
   "version": "3.7.3"
  }
 },
 "nbformat": 4,
 "nbformat_minor": 2
}
