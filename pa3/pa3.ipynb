{
 "cells": [
  {
   "cell_type": "code",
   "execution_count": 1,
   "metadata": {},
   "outputs": [],
   "source": [
    "import pandas as pd\n",
    "import numpy as np"
   ]
  },
  {
   "cell_type": "markdown",
   "metadata": {},
   "source": [
    "## import training and test datasets"
   ]
  },
  {
   "cell_type": "code",
   "execution_count": 401,
   "metadata": {},
   "outputs": [],
   "source": [
    "# pull in files and create dataframes\n",
    "train = np.loadtxt(\"pa3train.txt\")\n",
    "test = np.loadtxt(\"pa3test.txt\")\n",
    "#dictionary = np.loadtxt(\"pa3dictionary.txt\")\n",
    "\n",
    "\n",
    "# training data \n",
    "df_train = pd.DataFrame(train)\n",
    "df_train_2 = df_train[df_train.apply(lambda x: x[819] == 1 or x[819] == 2, axis=1)]\n",
    "#df_train_2 = df_train_2.sample(frac=1)\n",
    "# test data\n",
    "df_test = pd.DataFrame(test)\n",
    "df_test_2 = df_test[df_test.apply(lambda x: x[819] == 1 or x[819] == 2, axis=1)]\n",
    "#df_dict = pd.DataFrame(\"pa3dictionary.txt\")\n",
    "\n",
    "\n",
    "\n",
    "X_train = df_train.drop([819], axis=1)\n",
    "y_train = df_train[819]\n",
    "\n",
    "X_train_2 = df_train_2.drop([819], axis=1)\n",
    "y_train_2 = df_train_2[819]\n",
    "\n",
    "## mapping 1 -> 1 and 2 -> -1\n",
    "y_train_2_trans = y_train_2.apply(lambda x: 1 if x > 1 else -1)\n",
    "\n",
    "X_test = df_test.drop([819], axis=1)\n",
    "y_test = df_test[819]\n",
    "\n",
    "X_test_2 = df_test_2.drop([819], axis=1)\n",
    "y_test_2 = df_test_2[819]\n",
    "# mapping 1 -> 1 and 2 -> -1\n",
    "y_test_2_trans = y_test_2.apply(lambda x: 1 if x > 1 else -1)\n",
    "\n",
    "label = 819"
   ]
  },
  {
   "cell_type": "markdown",
   "metadata": {},
   "source": [
    "# Create Perceptron Class to train classifier"
   ]
  },
  {
   "cell_type": "code",
   "execution_count": 421,
   "metadata": {},
   "outputs": [],
   "source": [
    "class Perceptron:\n",
    "    def __init__(self, rounds):\n",
    "        self.rounds = rounds\n",
    "        self.X = None\n",
    "        self.y = None\n",
    "        self.w = None\n",
    "        self.array_of_w = []\n",
    "        self.predictions = []\n",
    "        self.voted_predictions = []\n",
    "        self.avg_predictions = []\n",
    "    \n",
    "    def fit(self, X, y):\n",
    "        self.X = X\n",
    "        self.y = y\n",
    "        self.w = pd.Series(np.arange(len(self.X.columns)))*0\n",
    "        m = 1\n",
    "        c = 1\n",
    "        for j in range(self.rounds):\n",
    "            for i in range(len(self.X)):\n",
    "                if self.y.iloc[i]*self.w.dot(self.X.iloc[i]) <= 0:\n",
    "                    self.w = self.w + self.y.iloc[i]*self.X.iloc[i]\n",
    "                    w = self.w\n",
    "                    m = m + 1 \n",
    "                    c = 1\n",
    "                    self.array_of_w.append([w, c])\n",
    "                else: \n",
    "                    c = c + 1\n",
    "                    index = len(self.array_of_w) - 1 # last position of last [w, c]\n",
    "                    self.array_of_w[index][1] = c\n",
    "    \n",
    "    def perceptron_get_sign(self, w, x):\n",
    "        return -1 if w.dot(x) <= 0 else 1\n",
    "    \n",
    "    def perceptron_get_sign_with_c(self, w, x, c):\n",
    "        return c*self.perceptron_get_sign(w,x)\n",
    "        \n",
    "    def predict(self):\n",
    "        for i in range(len(self.X)):\n",
    "            x = self.X.iloc[i]\n",
    "            self.predictions.append(self.perceptron_get_sign(self.w, x))\n",
    "        return self.predictions\n",
    "    \n",
    "    def voted_predict(self):\n",
    "        for i in range(len(self.X)):\n",
    "            x = self.X.iloc[i]\n",
    "            voted_sum = 0\n",
    "            for w_c in self.array_of_w:\n",
    "                w = w_c[0]\n",
    "                c = w_c[1]\n",
    "                voted_sum = voted_sum + self.perceptron_get_sign_with_c(w, x, c)\n",
    "\n",
    "            pred = -1 if voted_sum <= 0 else 1\n",
    "            self.voted_predictions.append(pred)\n",
    "\n",
    "        return self.voted_predictions\n",
    "    \n",
    "    def avg_predict(self):\n",
    "        # get first w,c pair\n",
    "        w = self.array_of_w[0][0] # grab w\n",
    "        c = self.array_of_w[0][1] # grab c\n",
    "        w_avg = c*w # [0, ..., 0] + first c*w\n",
    "        for i in range(1, len(self.array_of_w)):\n",
    "                w = self.array_of_w[i][0]\n",
    "                c = self.array_of_w[i][1]\n",
    "                w_avg = w_avg + c*w\n",
    "\n",
    "        for i in range(len(self.X)):\n",
    "            x = self.X.iloc[i]\n",
    "            sign = self.perceptron_get_sign(w_avg, x)\n",
    "            self.avg_predictions.append(sign)\n",
    "\n",
    "        return self.avg_predictions\n",
    "        \n",
    "        "
   ]
  },
  {
   "cell_type": "code",
   "execution_count": 422,
   "metadata": {},
   "outputs": [],
   "source": [
    "def getError(preds, y):\n",
    "    return 1 - ((preds == y).sum() / len(y))"
   ]
  },
  {
   "cell_type": "markdown",
   "metadata": {},
   "source": [
    "# Question 1: \n",
    "    What are the training errors and the test errors of perceptron, voted perceptron and averaged perceptron after two, three and four passes?\n",
    "### First, will create an instances of Perceptrons with 2, 3, and 4 rounds\n",
    "### Then fit the training data to each one of these\n",
    "## the y labels have been mapped 1 -> -1 and 2 -> 1"
   ]
  },
  {
   "cell_type": "code",
   "execution_count": 428,
   "metadata": {},
   "outputs": [],
   "source": [
    "# takes one argument for the number of rounds\n",
    "cls2 = Perceptron(2)\n",
    "cls3 = Perceptron(3)\n",
    "cls4 = Perceptron(4)"
   ]
  },
  {
   "cell_type": "code",
   "execution_count": 429,
   "metadata": {},
   "outputs": [],
   "source": [
    "cls2.fit(X_train_2, y_train_2_trans)\n",
    "cls3.fit(X_train_2, y_train_2_trans)\n",
    "cls4.fit(X_train_2, y_train_2_trans)"
   ]
  },
  {
   "cell_type": "code",
   "execution_count": 430,
   "metadata": {},
   "outputs": [],
   "source": [
    "preds2 = cls2.predict()\n",
    "preds3 = cls3.predict()\n",
    "preds4 = cls4.predict()"
   ]
  },
  {
   "cell_type": "markdown",
   "metadata": {},
   "source": [
    "#### Computing errors for perceptron"
   ]
  },
  {
   "cell_type": "code",
   "execution_count": 441,
   "metadata": {},
   "outputs": [
    {
     "name": "stdout",
     "output_type": "stream",
     "text": [
      "Errors for Perceptron:\n",
      "Error for 2 rounds: 0.0357798165137615\n",
      "Error for 3 rounds: 0.01834862385321101\n",
      "Error for 4 rounds: 0.016513761467889854\n"
     ]
    }
   ],
   "source": [
    "print(\"Errors for Perceptron:\\nError for 2 rounds: {}\\nError for 3 rounds: {}\\nError for 4 rounds: {}\"\n",
    "      .format(getError(preds2, y_train_2_trans), getError(preds3, y_train_2_trans), getError(preds4, y_train_2_trans)))\n",
    "\n",
    "\n",
    "\n"
   ]
  },
  {
   "cell_type": "markdown",
   "metadata": {},
   "source": [
    "### Get predictions for voted perceptron and compute errors"
   ]
  },
  {
   "cell_type": "code",
   "execution_count": 437,
   "metadata": {},
   "outputs": [],
   "source": [
    "voted_pred2 = cls2.voted_predict()\n",
    "voted_pred3 = cls3.voted_predict()\n",
    "voted_pred4 = cls4.voted_predict()"
   ]
  },
  {
   "cell_type": "code",
   "execution_count": 442,
   "metadata": {},
   "outputs": [
    {
     "name": "stdout",
     "output_type": "stream",
     "text": [
      "Errors for Voted Perceptron:\n",
      "Error for 2 rounds: 0.038532110091743066\n",
      "Error for 3 rounds: 0.026605504587155937\n",
      "Error for 4 rounds: 0.022018348623853212\n"
     ]
    }
   ],
   "source": [
    "print(\"Errors for Voted Perceptron:\\nError for 2 rounds: {}\\nError for 3 rounds: {}\\nError for 4 rounds: {}\"\n",
    "      .format(getError(voted_pred2, y_train_2_trans), getError(voted_pred3, y_train_2_trans), getError(voted_pred4, y_train_2_trans)))\n",
    "\n"
   ]
  },
  {
   "cell_type": "markdown",
   "metadata": {},
   "source": [
    "### Get predictions for averaged perceptron and compute errors"
   ]
  },
  {
   "cell_type": "code",
   "execution_count": 443,
   "metadata": {},
   "outputs": [],
   "source": [
    "avg_preds2 = cls2.avg_predict()\n",
    "avg_preds3 = cls3.avg_predict()\n",
    "avg_preds4 = cls4.avg_predict()"
   ]
  },
  {
   "cell_type": "code",
   "execution_count": 444,
   "metadata": {},
   "outputs": [
    {
     "name": "stdout",
     "output_type": "stream",
     "text": [
      "Errors for Averaged Perceptron:\n",
      "Error for 2 rounds: 0.05137614678899083\n",
      "Error for 3 rounds: 0.034862385321100864\n",
      "Error for 4 rounds: 0.031192660550458662\n"
     ]
    }
   ],
   "source": [
    "print(\"Errors for Averaged Perceptron:\\nError for 2 rounds: {}\\nError for 3 rounds: {}\\nError for 4 rounds: {}\"\n",
    "      .format(getError(avg_preds2, y_train_2_trans), getError(avg_preds3, y_train_2_trans), getError(avg_preds4, y_train_2_trans)))\n",
    "\n",
    "\n"
   ]
  },
  {
   "cell_type": "code",
   "execution_count": 333,
   "metadata": {},
   "outputs": [],
   "source": [
    "# fit\n",
    "def perceptron_fit(X, y):\n",
    "    w = pd.Series(np.arange(len(X.columns)))*0\n",
    "    m = 1\n",
    "    c = 1\n",
    "    arr_of_w = []\n",
    "    for i in range(len(X)):\n",
    "        if y.iloc[i]*w.dot(X.iloc[i]) <= 0:\n",
    "            w = w + y.iloc[i]*X.iloc[i]\n",
    "            m = m + 1\n",
    "            c = 1\n",
    "            arr_of_w.append([w, c])\n",
    "        else:\n",
    "            c = c + 1\n",
    "            arr_of_w[len(arr_of_w) - 1][1] = arr_of_w[len(arr_of_w) - 1][1] + 1\n",
    "\n",
    "    return w, arr_of_w"
   ]
  },
  {
   "cell_type": "code",
   "execution_count": 334,
   "metadata": {},
   "outputs": [],
   "source": [
    "def perceptron_check(w, x): \n",
    "    return -1 if w.dot(x) <= 0 else 1\n",
    "\n",
    "def perceptron_predict(X, w):\n",
    "    arr = []\n",
    "    for i in range(len(X)):\n",
    "        x = X.iloc[i]\n",
    "        arr.append(perceptron_check(w, x))\n",
    "    return arr"
   ]
  },
  {
   "cell_type": "code",
   "execution_count": 335,
   "metadata": {},
   "outputs": [],
   "source": [
    "def perceptron_check_c(w, x, c):\n",
    "    return c*perceptron_check(w, x)\n",
    "    \n",
    "def voted_perception_predict(X, arr_w):\n",
    "    preds = []\n",
    "    for i in range(len(X)):\n",
    "        x = X.iloc[i]\n",
    "        voted_sum = 0\n",
    "        for w_c in arr_w:\n",
    "            w = w_c[0]\n",
    "            c = w_c[1]\n",
    "            voted_sum = voted_sum + perceptron_check_c(w, x, c)\n",
    "            \n",
    "        pred = -1 if voted_sum <= 0 else 1\n",
    "        preds.append(pred)\n",
    "\n",
    "    return preds\n",
    "    "
   ]
  },
  {
   "cell_type": "code",
   "execution_count": 336,
   "metadata": {},
   "outputs": [],
   "source": [
    "def average_perception_predict(X, arr_w):\n",
    "    preds = []\n",
    "    w = arr_w[0][0]\n",
    "    c = arr_w[0][1]\n",
    "    combination_w = c*w\n",
    "    for i in range(1, len(arr_w)):\n",
    "            w = arr_w[i][0]\n",
    "            c = arr_w[i][1]\n",
    "            combination_w = combination_w + c*w\n",
    "    \n",
    "    for i in range(len(X)):\n",
    "        x = X.iloc[i]\n",
    "        sign = perceptron_check(combination_w, x)\n",
    "        preds.append(sign)\n",
    "        \n",
    "    return preds\n",
    "        \n",
    "    \n",
    "    # now do dot to get sign\n",
    "    \n",
    "        \n",
    "    "
   ]
  },
  {
   "cell_type": "code",
   "execution_count": 337,
   "metadata": {},
   "outputs": [],
   "source": [
    "w, arrs_w = perceptron_fit(X_train_2, y_train_2_trans)"
   ]
  },
  {
   "cell_type": "code",
   "execution_count": 338,
   "metadata": {},
   "outputs": [],
   "source": [
    "preds = perceptron_predict(X_train_2, w)"
   ]
  },
  {
   "cell_type": "code",
   "execution_count": 339,
   "metadata": {},
   "outputs": [
    {
     "data": {
      "text/plain": [
       "0.038532110091743066"
      ]
     },
     "execution_count": 339,
     "metadata": {},
     "output_type": "execute_result"
    }
   ],
   "source": [
    "1 - (preds == y_train_2_trans).sum() / len(y_train_2_trans)"
   ]
  },
  {
   "cell_type": "code",
   "execution_count": 340,
   "metadata": {},
   "outputs": [],
   "source": [
    "preds_voted = voted_perception_predict(X_train_2, arrs_w)"
   ]
  },
  {
   "cell_type": "code",
   "execution_count": 314,
   "metadata": {},
   "outputs": [
    {
     "data": {
      "text/plain": [
       "1090"
      ]
     },
     "execution_count": 314,
     "metadata": {},
     "output_type": "execute_result"
    }
   ],
   "source": [
    "len(preds_voted)"
   ]
  },
  {
   "cell_type": "code",
   "execution_count": 341,
   "metadata": {},
   "outputs": [
    {
     "data": {
      "text/plain": [
       "0.06605504587155964"
      ]
     },
     "execution_count": 341,
     "metadata": {},
     "output_type": "execute_result"
    }
   ],
   "source": [
    "1 - (preds_voted == y_train_2_trans).sum() / len(preds)"
   ]
  },
  {
   "cell_type": "code",
   "execution_count": 316,
   "metadata": {},
   "outputs": [
    {
     "name": "stdout",
     "output_type": "stream",
     "text": [
      "1\n",
      "2\n",
      "3\n",
      "4\n",
      "5\n",
      "6\n",
      "7\n",
      "8\n",
      "9\n",
      "10\n",
      "11\n",
      "12\n",
      "13\n",
      "14\n",
      "15\n",
      "16\n",
      "17\n",
      "18\n",
      "19\n",
      "20\n",
      "21\n",
      "22\n",
      "23\n",
      "24\n",
      "25\n",
      "26\n",
      "27\n",
      "28\n",
      "29\n",
      "30\n",
      "31\n",
      "32\n",
      "33\n",
      "34\n",
      "35\n",
      "36\n",
      "37\n",
      "38\n",
      "39\n",
      "40\n",
      "41\n",
      "42\n",
      "43\n",
      "44\n",
      "45\n",
      "46\n",
      "47\n",
      "48\n",
      "49\n",
      "50\n",
      "51\n",
      "52\n",
      "53\n",
      "54\n",
      "55\n",
      "56\n",
      "57\n",
      "58\n",
      "59\n",
      "60\n",
      "61\n",
      "62\n",
      "63\n",
      "64\n",
      "65\n",
      "66\n",
      "67\n",
      "68\n",
      "69\n",
      "70\n",
      "71\n",
      "72\n",
      "73\n",
      "74\n",
      "75\n",
      "76\n",
      "77\n",
      "78\n",
      "79\n",
      "80\n",
      "81\n",
      "82\n",
      "83\n",
      "84\n",
      "85\n",
      "86\n",
      "87\n",
      "88\n",
      "89\n",
      "90\n",
      "91\n",
      "92\n",
      "93\n",
      "94\n",
      "95\n",
      "96\n",
      "97\n",
      "98\n",
      "99\n",
      "100\n",
      "101\n",
      "102\n",
      "103\n",
      "104\n",
      "105\n",
      "106\n",
      "107\n",
      "108\n",
      "109\n",
      "110\n",
      "111\n",
      "112\n",
      "113\n",
      "114\n",
      "115\n",
      "116\n",
      "117\n",
      "118\n",
      "119\n",
      "120\n",
      "121\n",
      "122\n",
      "123\n",
      "124\n",
      "125\n",
      "126\n",
      "127\n",
      "128\n",
      "129\n",
      "130\n",
      "131\n",
      "132\n",
      "133\n",
      "134\n",
      "135\n",
      "136\n",
      "137\n",
      "138\n",
      "139\n",
      "140\n",
      "141\n",
      "142\n",
      "143\n",
      "144\n",
      "145\n",
      "146\n",
      "147\n",
      "148\n",
      "149\n",
      "150\n",
      "151\n",
      "152\n",
      "153\n",
      "154\n",
      "155\n",
      "156\n",
      "157\n",
      "158\n",
      "159\n",
      "160\n",
      "161\n",
      "162\n",
      "163\n",
      "164\n",
      "165\n"
     ]
    }
   ],
   "source": [
    "preds_avg = average_perception_predict(X_train_2, arrs_w)"
   ]
  },
  {
   "cell_type": "code",
   "execution_count": 327,
   "metadata": {},
   "outputs": [
    {
     "data": {
      "text/plain": [
       "0.07706422018348624"
      ]
     },
     "execution_count": 327,
     "metadata": {},
     "output_type": "execute_result"
    }
   ],
   "source": [
    "1 - (preds_avg == y_train_2_trans).sum() / len(preds)"
   ]
  },
  {
   "cell_type": "code",
   "execution_count": 5,
   "metadata": {},
   "outputs": [],
   "source": [
    "#X_train_w2.iloc[0][:label]"
   ]
  },
  {
   "cell_type": "code",
   "execution_count": 6,
   "metadata": {},
   "outputs": [
    {
     "name": "stdout",
     "output_type": "stream",
     "text": [
      "changing\n",
      "changing\n",
      "changing\n",
      "changing\n",
      "changing\n",
      "changing\n",
      "changing\n",
      "changing\n",
      "changing\n",
      "changing\n",
      "changing\n",
      "changing\n",
      "changing\n",
      "changing\n",
      "changing\n",
      "changing\n",
      "changing\n",
      "changing\n",
      "changing\n",
      "changing\n",
      "changing\n",
      "changing\n",
      "changing\n",
      "changing\n",
      "changing\n",
      "changing\n",
      "changing\n",
      "changing\n",
      "changing\n",
      "changing\n",
      "changing\n",
      "changing\n",
      "changing\n",
      "changing\n",
      "changing\n",
      "changing\n",
      "changing\n",
      "changing\n",
      "changing\n",
      "changing\n",
      "changing\n",
      "changing\n",
      "changing\n",
      "changing\n",
      "changing\n",
      "changing\n",
      "changing\n",
      "changing\n",
      "changing\n",
      "changing\n",
      "changing\n",
      "changing\n",
      "changing\n",
      "changing\n",
      "changing\n",
      "changing\n",
      "changing\n",
      "changing\n",
      "changing\n",
      "changing\n",
      "changing\n",
      "changing\n",
      "changing\n",
      "changing\n",
      "changing\n",
      "changing\n",
      "changing\n",
      "changing\n",
      "changing\n",
      "changing\n",
      "changing\n",
      "changing\n",
      "changing\n",
      "changing\n",
      "changing\n",
      "changing\n",
      "changing\n",
      "changing\n",
      "changing\n",
      "changing\n",
      "changing\n",
      "changing\n",
      "changing\n",
      "changing\n",
      "changing\n",
      "changing\n",
      "changing\n",
      "changing\n",
      "changing\n",
      "changing\n",
      "changing\n",
      "changing\n",
      "changing\n",
      "changing\n",
      "changing\n",
      "changing\n",
      "changing\n",
      "changing\n",
      "changing\n",
      "changing\n",
      "changing\n",
      "changing\n",
      "changing\n",
      "changing\n",
      "changing\n",
      "changing\n",
      "changing\n",
      "changing\n",
      "changing\n",
      "changing\n",
      "changing\n",
      "changing\n",
      "changing\n",
      "changing\n",
      "changing\n",
      "changing\n",
      "changing\n",
      "changing\n",
      "changing\n",
      "changing\n",
      "changing\n",
      "changing\n",
      "changing\n",
      "changing\n",
      "changing\n",
      "changing\n",
      "changing\n",
      "changing\n",
      "changing\n",
      "changing\n",
      "changing\n",
      "changing\n",
      "changing\n",
      "changing\n",
      "changing\n",
      "changing\n",
      "changing\n",
      "changing\n",
      "changing\n",
      "changing\n",
      "changing\n",
      "changing\n",
      "changing\n",
      "changing\n",
      "changing\n",
      "changing\n",
      "changing\n",
      "changing\n",
      "changing\n",
      "changing\n",
      "changing\n",
      "changing\n",
      "changing\n",
      "changing\n",
      "changing\n",
      "changing\n",
      "changing\n",
      "changing\n",
      "changing\n",
      "changing\n",
      "changing\n",
      "changing\n",
      "changing\n",
      "changing\n",
      "changing\n"
     ]
    }
   ],
   "source": [
    "w = 0\n",
    "check = 0\n",
    "for i in range(len(X_train_2) - 1):\n",
    "    if check == 0:\n",
    "        w = y_train_2_trans.iloc[i]*X_train_2.iloc[i][:label]\n",
    "        check = check + 1\n",
    "    else:\n",
    "        \n",
    "        if y_train_2_trans.iloc[i]*w.dot(X_train_2.iloc[i][:label]) <= 0:\n",
    "            print(\"changing\")\n",
    "            w = w + y_train_2_trans.iloc[i]*X_train_2.iloc[i][:label]"
   ]
  },
  {
   "cell_type": "code",
   "execution_count": 155,
   "metadata": {},
   "outputs": [],
   "source": [
    "x_train_2_nolabel = df_train_2.drop([818], axis=1)"
   ]
  },
  {
   "cell_type": "code",
   "execution_count": 228,
   "metadata": {},
   "outputs": [],
   "source": []
  },
  {
   "cell_type": "code",
   "execution_count": 229,
   "metadata": {},
   "outputs": [],
   "source": [
    "def Perceptron(trainingInput, w):\n",
    "    arr = []\n",
    "    for i in range(len(trainingInput)):\n",
    "        x = trainingInput.iloc[i][:label]\n",
    "        #y = y_train_2_trans.iloc[i]\n",
    "        arr.append(perceptron(w, x))\n",
    "    return arr"
   ]
  },
  {
   "cell_type": "code",
   "execution_count": 230,
   "metadata": {},
   "outputs": [],
   "source": [
    "preds = Perceptron(X_train_2, w)"
   ]
  },
  {
   "cell_type": "code",
   "execution_count": 231,
   "metadata": {},
   "outputs": [
    {
     "data": {
      "text/plain": [
       "2.0    547\n",
       "1.0    543\n",
       "Name: 819, dtype: int64"
      ]
     },
     "execution_count": 231,
     "metadata": {},
     "output_type": "execute_result"
    }
   ],
   "source": [
    "y_train_2.value_counts()"
   ]
  },
  {
   "cell_type": "code",
   "execution_count": 232,
   "metadata": {},
   "outputs": [
    {
     "data": {
      "text/plain": [
       " 1    548\n",
       "-1    542\n",
       "dtype: int64"
      ]
     },
     "execution_count": 232,
     "metadata": {},
     "output_type": "execute_result"
    }
   ],
   "source": [
    "pd.Series(preds).value_counts()"
   ]
  },
  {
   "cell_type": "code",
   "execution_count": 233,
   "metadata": {},
   "outputs": [],
   "source": [
    "error = 1 - ((preds == y_train_2_trans).sum() / len(preds))"
   ]
  },
  {
   "cell_type": "code",
   "execution_count": 234,
   "metadata": {},
   "outputs": [
    {
     "data": {
      "text/plain": [
       "-1    547\n",
       " 1    543\n",
       "Name: 819, dtype: int64"
      ]
     },
     "execution_count": 234,
     "metadata": {},
     "output_type": "execute_result"
    }
   ],
   "source": [
    "y_train_2_trans.value_counts()"
   ]
  },
  {
   "cell_type": "code",
   "execution_count": 235,
   "metadata": {},
   "outputs": [
    {
     "data": {
      "text/plain": [
       "0.041284403669724745"
      ]
     },
     "execution_count": 235,
     "metadata": {},
     "output_type": "execute_result"
    }
   ],
   "source": [
    "error"
   ]
  },
  {
   "cell_type": "code",
   "execution_count": 204,
   "metadata": {},
   "outputs": [
    {
     "data": {
      "text/plain": [
       " 1    1045\n",
       "-1      45\n",
       "dtype: int64"
      ]
     },
     "execution_count": 204,
     "metadata": {},
     "output_type": "execute_result"
    }
   ],
   "source": [
    "pd.Series(preds).value_counts()"
   ]
  },
  {
   "cell_type": "code",
   "execution_count": 89,
   "metadata": {},
   "outputs": [
    {
     "data": {
      "text/plain": [
       "1"
      ]
     },
     "execution_count": 89,
     "metadata": {},
     "output_type": "execute_result"
    }
   ],
   "source": [
    "perceptron(w, X_train_2.iloc[i][:label])"
   ]
  },
  {
   "cell_type": "code",
   "execution_count": null,
   "metadata": {},
   "outputs": [],
   "source": [
    "for i in range(1):\n",
    "    if()"
   ]
  },
  {
   "cell_type": "code",
   "execution_count": 11,
   "metadata": {},
   "outputs": [],
   "source": [
    "one = X_train.iloc[0]\n"
   ]
  },
  {
   "cell_type": "code",
   "execution_count": null,
   "metadata": {},
   "outputs": [],
   "source": []
  },
  {
   "cell_type": "code",
   "execution_count": 9,
   "metadata": {},
   "outputs": [
    {
     "data": {
      "text/html": [
       "<div>\n",
       "<style scoped>\n",
       "    .dataframe tbody tr th:only-of-type {\n",
       "        vertical-align: middle;\n",
       "    }\n",
       "\n",
       "    .dataframe tbody tr th {\n",
       "        vertical-align: top;\n",
       "    }\n",
       "\n",
       "    .dataframe thead th {\n",
       "        text-align: right;\n",
       "    }\n",
       "</style>\n",
       "<table border=\"1\" class=\"dataframe\">\n",
       "  <thead>\n",
       "    <tr style=\"text-align: right;\">\n",
       "      <th></th>\n",
       "      <th>0</th>\n",
       "      <th>1</th>\n",
       "      <th>2</th>\n",
       "      <th>3</th>\n",
       "      <th>4</th>\n",
       "      <th>5</th>\n",
       "      <th>6</th>\n",
       "      <th>7</th>\n",
       "      <th>8</th>\n",
       "      <th>9</th>\n",
       "      <th>...</th>\n",
       "      <th>810</th>\n",
       "      <th>811</th>\n",
       "      <th>812</th>\n",
       "      <th>813</th>\n",
       "      <th>814</th>\n",
       "      <th>815</th>\n",
       "      <th>816</th>\n",
       "      <th>817</th>\n",
       "      <th>818</th>\n",
       "      <th>819</th>\n",
       "    </tr>\n",
       "  </thead>\n",
       "  <tbody>\n",
       "    <tr>\n",
       "      <th>0</th>\n",
       "      <td>0.0</td>\n",
       "      <td>1.0</td>\n",
       "      <td>3.0</td>\n",
       "      <td>0.0</td>\n",
       "      <td>4.0</td>\n",
       "      <td>0.0</td>\n",
       "      <td>0.0</td>\n",
       "      <td>0.0</td>\n",
       "      <td>6.0</td>\n",
       "      <td>2.0</td>\n",
       "      <td>...</td>\n",
       "      <td>0.0</td>\n",
       "      <td>0.0</td>\n",
       "      <td>0.0</td>\n",
       "      <td>0.0</td>\n",
       "      <td>0.0</td>\n",
       "      <td>0.0</td>\n",
       "      <td>0.0</td>\n",
       "      <td>0.0</td>\n",
       "      <td>0.0</td>\n",
       "      <td>5.0</td>\n",
       "    </tr>\n",
       "    <tr>\n",
       "      <th>1</th>\n",
       "      <td>0.0</td>\n",
       "      <td>0.0</td>\n",
       "      <td>3.0</td>\n",
       "      <td>0.0</td>\n",
       "      <td>1.0</td>\n",
       "      <td>0.0</td>\n",
       "      <td>0.0</td>\n",
       "      <td>1.0</td>\n",
       "      <td>7.0</td>\n",
       "      <td>2.0</td>\n",
       "      <td>...</td>\n",
       "      <td>0.0</td>\n",
       "      <td>0.0</td>\n",
       "      <td>0.0</td>\n",
       "      <td>0.0</td>\n",
       "      <td>0.0</td>\n",
       "      <td>0.0</td>\n",
       "      <td>0.0</td>\n",
       "      <td>0.0</td>\n",
       "      <td>0.0</td>\n",
       "      <td>1.0</td>\n",
       "    </tr>\n",
       "    <tr>\n",
       "      <th>2</th>\n",
       "      <td>0.0</td>\n",
       "      <td>0.0</td>\n",
       "      <td>1.0</td>\n",
       "      <td>0.0</td>\n",
       "      <td>0.0</td>\n",
       "      <td>0.0</td>\n",
       "      <td>0.0</td>\n",
       "      <td>1.0</td>\n",
       "      <td>1.0</td>\n",
       "      <td>2.0</td>\n",
       "      <td>...</td>\n",
       "      <td>0.0</td>\n",
       "      <td>0.0</td>\n",
       "      <td>0.0</td>\n",
       "      <td>0.0</td>\n",
       "      <td>0.0</td>\n",
       "      <td>0.0</td>\n",
       "      <td>0.0</td>\n",
       "      <td>0.0</td>\n",
       "      <td>0.0</td>\n",
       "      <td>4.0</td>\n",
       "    </tr>\n",
       "    <tr>\n",
       "      <th>3</th>\n",
       "      <td>0.0</td>\n",
       "      <td>0.0</td>\n",
       "      <td>12.0</td>\n",
       "      <td>0.0</td>\n",
       "      <td>0.0</td>\n",
       "      <td>0.0</td>\n",
       "      <td>0.0</td>\n",
       "      <td>2.0</td>\n",
       "      <td>12.0</td>\n",
       "      <td>4.0</td>\n",
       "      <td>...</td>\n",
       "      <td>0.0</td>\n",
       "      <td>0.0</td>\n",
       "      <td>0.0</td>\n",
       "      <td>0.0</td>\n",
       "      <td>0.0</td>\n",
       "      <td>0.0</td>\n",
       "      <td>0.0</td>\n",
       "      <td>0.0</td>\n",
       "      <td>0.0</td>\n",
       "      <td>2.0</td>\n",
       "    </tr>\n",
       "    <tr>\n",
       "      <th>4</th>\n",
       "      <td>0.0</td>\n",
       "      <td>1.0</td>\n",
       "      <td>2.0</td>\n",
       "      <td>0.0</td>\n",
       "      <td>0.0</td>\n",
       "      <td>0.0</td>\n",
       "      <td>0.0</td>\n",
       "      <td>2.0</td>\n",
       "      <td>16.0</td>\n",
       "      <td>5.0</td>\n",
       "      <td>...</td>\n",
       "      <td>0.0</td>\n",
       "      <td>0.0</td>\n",
       "      <td>0.0</td>\n",
       "      <td>0.0</td>\n",
       "      <td>0.0</td>\n",
       "      <td>0.0</td>\n",
       "      <td>0.0</td>\n",
       "      <td>0.0</td>\n",
       "      <td>0.0</td>\n",
       "      <td>2.0</td>\n",
       "    </tr>\n",
       "  </tbody>\n",
       "</table>\n",
       "<p>5 rows × 820 columns</p>\n",
       "</div>"
      ],
      "text/plain": [
       "   0    1     2    3    4    5    6    7     8    9    ...  810  811  812  \\\n",
       "0  0.0  1.0   3.0  0.0  4.0  0.0  0.0  0.0   6.0  2.0  ...  0.0  0.0  0.0   \n",
       "1  0.0  0.0   3.0  0.0  1.0  0.0  0.0  1.0   7.0  2.0  ...  0.0  0.0  0.0   \n",
       "2  0.0  0.0   1.0  0.0  0.0  0.0  0.0  1.0   1.0  2.0  ...  0.0  0.0  0.0   \n",
       "3  0.0  0.0  12.0  0.0  0.0  0.0  0.0  2.0  12.0  4.0  ...  0.0  0.0  0.0   \n",
       "4  0.0  1.0   2.0  0.0  0.0  0.0  0.0  2.0  16.0  5.0  ...  0.0  0.0  0.0   \n",
       "\n",
       "   813  814  815  816  817  818  819  \n",
       "0  0.0  0.0  0.0  0.0  0.0  0.0  5.0  \n",
       "1  0.0  0.0  0.0  0.0  0.0  0.0  1.0  \n",
       "2  0.0  0.0  0.0  0.0  0.0  0.0  4.0  \n",
       "3  0.0  0.0  0.0  0.0  0.0  0.0  2.0  \n",
       "4  0.0  0.0  0.0  0.0  0.0  0.0  2.0  \n",
       "\n",
       "[5 rows x 820 columns]"
      ]
     },
     "execution_count": 9,
     "metadata": {},
     "output_type": "execute_result"
    }
   ],
   "source": [
    "df_train.head()"
   ]
  },
  {
   "cell_type": "code",
   "execution_count": null,
   "metadata": {},
   "outputs": [],
   "source": []
  }
 ],
 "metadata": {
  "kernelspec": {
   "display_name": "Python 3",
   "language": "python",
   "name": "python3"
  },
  "language_info": {
   "codemirror_mode": {
    "name": "ipython",
    "version": 3
   },
   "file_extension": ".py",
   "mimetype": "text/x-python",
   "name": "python",
   "nbconvert_exporter": "python",
   "pygments_lexer": "ipython3",
   "version": "3.7.3"
  }
 },
 "nbformat": 4,
 "nbformat_minor": 2
}
